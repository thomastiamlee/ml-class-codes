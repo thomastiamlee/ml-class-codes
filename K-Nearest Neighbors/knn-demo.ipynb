{
 "cells": [
  {
   "cell_type": "markdown",
   "metadata": {},
   "source": [
    "## K-Nearest Neighbors\n",
    "\n",
    "Author: Thomas James Tiam-Lee"
   ]
  },
  {
   "cell_type": "markdown",
   "metadata": {},
   "source": [
    "### Import Libraries"
   ]
  },
  {
   "cell_type": "code",
   "execution_count": null,
   "metadata": {},
   "outputs": [],
   "source": [
    "import pandas as pd\n",
    "import numpy as np\n",
    "import matplotlib.pyplot as plt\n",
    "import seaborn as sns"
   ]
  },
  {
   "cell_type": "markdown",
   "metadata": {},
   "source": [
    "### Generate Synthetic Dataset"
   ]
  },
  {
   "cell_type": "code",
   "execution_count": null,
   "metadata": {},
   "outputs": [],
   "source": [
    "np.random.seed(1)\n",
    "X1_zero = np.random.normal(loc=2.5, scale=0.5, size=10).reshape(-1, 1)\n",
    "X2_zero = np.random.normal(loc=5, scale=0.25, size=10).reshape(-1, 1)\n",
    "X1_one = np.random.normal(loc=4, scale=0.75, size=10).reshape(-1, 1)\n",
    "X2_one = np.random.normal(loc=4.5, scale=0.5, size=10).reshape(-1, 1)\n",
    "X_zero = np.concatenate((X1_zero, X2_zero), axis=1)\n",
    "X_one = np.concatenate((X1_one, X2_one), axis=1)\n",
    "X = np.concatenate((X_zero, X_one), axis=0)\n",
    "\n",
    "y_zero = np.zeros(10)\n",
    "y_ones = np.ones(10)\n",
    "y = np.concatenate((y_zero, y_ones))\n"
   ]
  },
  {
   "cell_type": "markdown",
   "metadata": {},
   "source": [
    "### Plot the Data"
   ]
  },
  {
   "cell_type": "code",
   "execution_count": null,
   "metadata": {},
   "outputs": [],
   "source": [
    "def plot(X, y):\n",
    "  fig, ax = plt.subplots(1,1,figsize=(4,3))\n",
    "  sns.scatterplot(x=X[y==0][:,0], y=X[y==0][:,1], color='red', label='0')\n",
    "  sns.scatterplot(x=X[y==1][:,0], y=X[y==1][:,1], color='blue', label='1')\n",
    "  return fig, ax\n",
    "fig, ax = plot(X, y)"
   ]
  },
  {
   "cell_type": "markdown",
   "metadata": {},
   "source": [
    "### Training the Model\n",
    "\n",
    "In KNN, there is no training required because the model for KNN is the training data itself (it simply memorizes all the data points)."
   ]
  },
  {
   "cell_type": "markdown",
   "metadata": {},
   "source": [
    "### Making a Prediction"
   ]
  },
  {
   "cell_type": "markdown",
   "metadata": {},
   "source": [
    "Let's say we want to make a prediction for the following point:"
   ]
  },
  {
   "cell_type": "code",
   "execution_count": null,
   "metadata": {},
   "outputs": [],
   "source": [
    "y_test = np.array([[4, 4.2]])"
   ]
  },
  {
   "cell_type": "code",
   "execution_count": null,
   "metadata": {},
   "outputs": [],
   "source": [
    "fig, ax = plot(X, y)\n",
    "sns.scatterplot(x=y_test[:,0], y=y_test[:,1], color='black', marker='x', ax=ax)"
   ]
  },
  {
   "cell_type": "markdown",
   "metadata": {},
   "source": [
    "Set the hyperparameter $k$."
   ]
  },
  {
   "cell_type": "code",
   "execution_count": null,
   "metadata": {},
   "outputs": [],
   "source": []
  },
  {
   "cell_type": "markdown",
   "metadata": {},
   "source": [
    "We need to find the $k$ closest neighbors to `y_test`. Therefore, we need to compute the distance between each point in the training data to `y_test`."
   ]
  },
  {
   "cell_type": "code",
   "execution_count": null,
   "metadata": {},
   "outputs": [],
   "source": []
  },
  {
   "cell_type": "code",
   "execution_count": null,
   "metadata": {},
   "outputs": [],
   "source": []
  },
  {
   "cell_type": "markdown",
   "metadata": {},
   "source": [
    "We need to get the $k$ smallest distances, and their indices."
   ]
  },
  {
   "cell_type": "code",
   "execution_count": null,
   "metadata": {},
   "outputs": [],
   "source": []
  },
  {
   "cell_type": "markdown",
   "metadata": {},
   "source": [
    "We get the classes of the closest neighbors."
   ]
  },
  {
   "cell_type": "code",
   "execution_count": null,
   "metadata": {},
   "outputs": [],
   "source": []
  },
  {
   "cell_type": "markdown",
   "metadata": {},
   "source": [
    "We get the majority class."
   ]
  },
  {
   "cell_type": "code",
   "execution_count": null,
   "metadata": {},
   "outputs": [],
   "source": []
  }
 ],
 "metadata": {
  "kernelspec": {
   "display_name": "Python 3",
   "language": "python",
   "name": "python3"
  },
  "language_info": {
   "codemirror_mode": {
    "name": "ipython",
    "version": 3
   },
   "file_extension": ".py",
   "mimetype": "text/x-python",
   "name": "python",
   "nbconvert_exporter": "python",
   "pygments_lexer": "ipython3",
   "version": "3.10.6"
  }
 },
 "nbformat": 4,
 "nbformat_minor": 2
}
