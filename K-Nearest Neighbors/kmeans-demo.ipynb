{
 "cells": [
  {
   "cell_type": "markdown",
   "metadata": {},
   "source": [
    "## K-Means Clustering with Wholesale Data\n",
    "\n",
    "Author: Thomas James Tiam-Lee"
   ]
  },
  {
   "cell_type": "markdown",
   "metadata": {},
   "source": [
    "### Import Libraries"
   ]
  },
  {
   "cell_type": "code",
   "execution_count": null,
   "metadata": {},
   "outputs": [],
   "source": [
    "import pandas as pd\n",
    "import numpy as np\n",
    "import matplotlib.pyplot as plt\n",
    "import seaborn as sns"
   ]
  },
  {
   "cell_type": "markdown",
   "metadata": {},
   "source": [
    "### Load the Dataset"
   ]
  },
  {
   "cell_type": "code",
   "execution_count": null,
   "metadata": {},
   "outputs": [],
   "source": [
    "df_wholesale = pd.read_csv('wholesale.csv')\n",
    "df_wholesale"
   ]
  },
  {
   "cell_type": "markdown",
   "metadata": {},
   "source": [
    "### Select the Features"
   ]
  },
  {
   "cell_type": "code",
   "execution_count": null,
   "metadata": {},
   "outputs": [],
   "source": []
  },
  {
   "cell_type": "markdown",
   "metadata": {},
   "source": [
    "### Preprocessing"
   ]
  },
  {
   "cell_type": "markdown",
   "metadata": {},
   "source": [
    "### Train the Model"
   ]
  },
  {
   "cell_type": "markdown",
   "metadata": {},
   "source": [
    "### Plot the Clusters"
   ]
  },
  {
   "cell_type": "code",
   "execution_count": null,
   "metadata": {},
   "outputs": [],
   "source": [
    "palette = sns.color_palette(\"hls\", k)\n",
    "fig, ax = plt.subplots(3,1,figsize=(3,10))\n",
    "sns.scatterplot(x=X[:,0], y=X[:,1], hue=model.labels_, ax=ax[0], marker='x',\n",
    "                palette=palette)\n",
    "ax[0].set_xlabel(df_wholesale.columns[2])\n",
    "ax[0].set_ylabel(df_wholesale.columns[3])\n",
    "sns.scatterplot(x=X[:,2], y=X[:,3], hue=model.labels_, ax=ax[1], marker='x',\n",
    "                palette=palette)\n",
    "\n",
    "ax[1].set_xlabel(df_wholesale.columns[4])\n",
    "ax[1].set_ylabel(df_wholesale.columns[5])\n",
    "sns.scatterplot(x=X[:,4], y=X[:,5], hue=model.labels_, ax=ax[2], marker='x',\n",
    "                palette=palette)\n",
    "ax[2].set_xlabel(df_wholesale.columns[6])\n",
    "ax[2].set_ylabel(df_wholesale.columns[7])"
   ]
  },
  {
   "cell_type": "code",
   "execution_count": null,
   "metadata": {},
   "outputs": [],
   "source": [
    "fig,ax=plt.subplots(2,3,figsize=(8,6))\n",
    "for i, ax in enumerate(ax.flat):\n",
    "  sns.boxplot(y=X[:,i],ax=ax,x=model.labels_, orient='v', palette=palette)\n",
    "  ax.set_title(df_wholesale.columns[2+i])\n",
    "  plt.tight_layout()"
   ]
  },
  {
   "cell_type": "markdown",
   "metadata": {},
   "source": [
    "### Selecting the Best Value for $k$"
   ]
  },
  {
   "cell_type": "code",
   "execution_count": null,
   "metadata": {},
   "outputs": [],
   "source": []
  }
 ],
 "metadata": {
  "kernelspec": {
   "display_name": "Python 3",
   "language": "python",
   "name": "python3"
  },
  "language_info": {
   "codemirror_mode": {
    "name": "ipython",
    "version": 3
   },
   "file_extension": ".py",
   "mimetype": "text/x-python",
   "name": "python",
   "nbconvert_exporter": "python",
   "pygments_lexer": "ipython3",
   "version": "3.10.6"
  }
 },
 "nbformat": 4,
 "nbformat_minor": 2
}
